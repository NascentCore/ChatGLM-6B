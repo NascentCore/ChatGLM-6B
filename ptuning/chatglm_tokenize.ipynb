{
 "cells": [
  {
   "cell_type": "code",
   "execution_count": 18,
   "id": "fd8eed87-5022-4225-86b0-8661ec987a44",
   "metadata": {},
   "outputs": [],
   "source": [
    "import transformers\n",
    "from transformers import (\n",
    "    AutoConfig,\n",
    "    AutoModel,\n",
    "    AutoTokenizer,\n",
    "    AutoTokenizer,\n",
    "    DataCollatorForSeq2Seq,\n",
    "    HfArgumentParser,\n",
    "    Seq2SeqTrainingArguments,\n",
    "    set_seed,\n",
    ")\n",
    "from trainer_seq2seq import Seq2SeqTrainer\n",
    "import pandas as pd"
   ]
  },
  {
   "cell_type": "code",
   "execution_count": 11,
   "id": "d2bc6020-1685-46a7-a843-938686ebedb1",
   "metadata": {},
   "outputs": [
    {
     "name": "stderr",
     "output_type": "stream",
     "text": [
      "Explicitly passing a `revision` is encouraged when loading a model with custom code to ensure no malicious code has been contributed in a newer revision.\n"
     ]
    }
   ],
   "source": [
    "model_name_or_path = \"THUDM/chatglm-6b\"\n",
    "auto_tokenizer = AutoTokenizer.from_pretrained(model_name_or_path, trust_remote_code=True)\n",
    "# cut_words = auto_tokenizer.tokenize('对比原始的分词和最新的分词器')\n",
    "# print(\"cut_words = \",cut_words)\n",
    "# auto_result04 = auto_tokenizer.convert_tokens_to_ids(cut_words)\n",
    "# print(\"auto_result04 = \", auto_result04)"
   ]
  },
  {
   "cell_type": "code",
   "execution_count": 72,
   "id": "bcec2de6-b177-4918-ab5c-224a08f664b2",
   "metadata": {},
   "outputs": [
    {
     "name": "stdout",
     "output_type": "stream",
     "text": [
      "cut_words =  ['▁', '对比', '原始的', '分', '词', '和', '最新的', '分', '词', '器']\n"
     ]
    }
   ],
   "source": [
    "cut_words = auto_tokenizer.tokenize('对比原始的分词和最新的分词器')\n",
    "print(\"cut_words = \",cut_words)"
   ]
  },
  {
   "cell_type": "code",
   "execution_count": 22,
   "id": "0be40b98-658b-4c9d-8c33-55756a041574",
   "metadata": {},
   "outputs": [
    {
     "data": {
      "text/html": [
       "<div>\n",
       "<style scoped>\n",
       "    .dataframe tbody tr th:only-of-type {\n",
       "        vertical-align: middle;\n",
       "    }\n",
       "\n",
       "    .dataframe tbody tr th {\n",
       "        vertical-align: top;\n",
       "    }\n",
       "\n",
       "    .dataframe thead th {\n",
       "        text-align: right;\n",
       "    }\n",
       "</style>\n",
       "<table border=\"1\" class=\"dataframe\">\n",
       "  <thead>\n",
       "    <tr style=\"text-align: right;\">\n",
       "      <th></th>\n",
       "      <th>题目</th>\n",
       "      <th>考察能力</th>\n",
       "      <th>候选人回答</th>\n",
       "      <th>题目回答1\\n请针对下面的题目和候选人的回答，如果题目和回答与{能力名称} 相关，就候选人的{能力名称} 帮我打个分。回答格式请用第一行显示分数，百分制。第二段是简介。如果题目和{能力名称} 无关，请第一行显示“0分”，第二行显示描述“该题目和{能力名称} 无关，无法测评”。面试题目:{面试题目} 候选人回答：{候选人回答内容}</th>\n",
       "      <th>题目回答2\\n请针对下面的题目和候选人的回答，如果题目和回答与{能力名称} 相关，就候选人的{能力名称} 帮我打个分。回答格式请用第一行显示分数，最高100分，第二段是简介。如果候选人回答中描述了具体的案例则可以酌情加分，否则可以适当减分。如果题目和{能力名称} 无关，请第一行显示“0分”，第二行显示描述“该题目和{能力名称} 无关，无法测评”。面试题目:{面试题目} 候选人回答：{候选人回答内容}</th>\n",
       "      <th>题目回答3\\n请针对下面的题目和候选人的回答，如果题目和回答与{能力名称}相关，就候选人的{能力名称}帮我打个分。回答格式：用两段阐述，第一段是显示分数，百分制，第二段是用中文对候选人的评价以及对面试官的建议。如果题目和{能力名称}无关，请第一行显示“0分”，第二行显示描述“该题目和{能力名称}无关，无法测评”。面试题目：{题目内容} 候选人回答：{回答内容}</th>\n",
       "      <th>回答1 评价标注</th>\n",
       "      <th>回答2 评价标注</th>\n",
       "      <th>准确分数</th>\n",
       "    </tr>\n",
       "  </thead>\n",
       "  <tbody>\n",
       "    <tr>\n",
       "      <th>0</th>\n",
       "      <td>谈一谈你未来的阶段性目标（三个月/半年/一年/三年）</td>\n",
       "      <td>管理能力</td>\n",
       "      <td>, 个人的计划是这样的，在三个月之内，个人目标要做四单买卖，业绩达到10万以上。因为对我个人...</td>\n",
       "      <td>分数：75分\\n该候选人在三个月内有具体的目标并且基于自己过往的经验制定了该目标，但是在半年...</td>\n",
       "      <td>60分，候选人回答中有具体的计划和目标，但缺乏具体的策略和实施方法。在管理能力方面，需要进一...</td>\n",
       "      <td>分数：80分\\n该候选人具有较强的管理能力，能够设定个人阶段性目标，并有明确的计划去实现这些...</td>\n",
       "      <td>准确</td>\n",
       "      <td>比1 准确</td>\n",
       "      <td>60.0</td>\n",
       "    </tr>\n",
       "  </tbody>\n",
       "</table>\n",
       "</div>"
      ],
      "text/plain": [
       "                           题目  考察能力  \\\n",
       "0  谈一谈你未来的阶段性目标（三个月/半年/一年/三年）  管理能力   \n",
       "\n",
       "                                               候选人回答  \\\n",
       "0  , 个人的计划是这样的，在三个月之内，个人目标要做四单买卖，业绩达到10万以上。因为对我个人...   \n",
       "\n",
       "  题目回答1\\n请针对下面的题目和候选人的回答，如果题目和回答与{能力名称} 相关，就候选人的{能力名称} 帮我打个分。回答格式请用第一行显示分数，百分制。第二段是简介。如果题目和{能力名称} 无关，请第一行显示“0分”，第二行显示描述“该题目和{能力名称} 无关，无法测评”。面试题目:{面试题目} 候选人回答：{候选人回答内容}  \\\n",
       "0  分数：75分\\n该候选人在三个月内有具体的目标并且基于自己过往的经验制定了该目标，但是在半年...                                                                                                                      \n",
       "\n",
       "  题目回答2\\n请针对下面的题目和候选人的回答，如果题目和回答与{能力名称} 相关，就候选人的{能力名称} 帮我打个分。回答格式请用第一行显示分数，最高100分，第二段是简介。如果候选人回答中描述了具体的案例则可以酌情加分，否则可以适当减分。如果题目和{能力名称} 无关，请第一行显示“0分”，第二行显示描述“该题目和{能力名称} 无关，无法测评”。面试题目:{面试题目} 候选人回答：{候选人回答内容}  \\\n",
       "0  60分，候选人回答中有具体的计划和目标，但缺乏具体的策略和实施方法。在管理能力方面，需要进一...                                                                                                                                                          \n",
       "\n",
       "  题目回答3\\n请针对下面的题目和候选人的回答，如果题目和回答与{能力名称}相关，就候选人的{能力名称}帮我打个分。回答格式：用两段阐述，第一段是显示分数，百分制，第二段是用中文对候选人的评价以及对面试官的建议。如果题目和{能力名称}无关，请第一行显示“0分”，第二行显示描述“该题目和{能力名称}无关，无法测评”。面试题目：{题目内容} 候选人回答：{回答内容}  \\\n",
       "0  分数：80分\\n该候选人具有较强的管理能力，能够设定个人阶段性目标，并有明确的计划去实现这些...                                                                                                                                      \n",
       "\n",
       "  回答1 评价标注 回答2 评价标注  准确分数  \n",
       "0       准确    比1 准确  60.0  "
      ]
     },
     "execution_count": 22,
     "metadata": {},
     "output_type": "execute_result"
    }
   ],
   "source": [
    "df = pd.read_csv('../../eli/data/test_data/eli_1000_cleaned_marked.csv')\n",
    "df.head(1)"
   ]
  },
  {
   "cell_type": "code",
   "execution_count": 78,
   "id": "3059981d-de17-4482-9e22-b7bcdc1a32f4",
   "metadata": {},
   "outputs": [
    {
     "name": "stderr",
     "output_type": "stream",
     "text": [
      "/tmp/ipykernel_87243/1313266864.py:3: SettingWithCopyWarning: \n",
      "A value is trying to be set on a copy of a slice from a DataFrame.\n",
      "Try using .loc[row_indexer,col_indexer] = value instead\n",
      "\n",
      "See the caveats in the documentation: https://pandas.pydata.org/pandas-docs/stable/user_guide/indexing.html#returning-a-view-versus-a-copy\n",
      "  df_unique[\"题目\"] = df_unique[\"题目\"].str.strip().str.lstrip(',')\n"
     ]
    }
   ],
   "source": [
    "# 去重操作\n",
    "df_unique = df.drop_duplicates(subset=['题目'])\n",
    "df_unique[\"题目\"] = df_unique[\"题目\"].str.strip().str.lstrip(',')"
   ]
  },
  {
   "cell_type": "code",
   "execution_count": 87,
   "id": "e8fbd8b7-8f8b-4ca0-b3e6-f27699a008a6",
   "metadata": {},
   "outputs": [],
   "source": [
    "def cut_word(row):\n",
    "    # print(row)\n",
    "    ret = auto_tokenizer.tokenize(row)\n",
    "    # print(ret)\n",
    "    # print('-'*50)\n",
    "    return ret"
   ]
  },
  {
   "cell_type": "code",
   "execution_count": 88,
   "id": "4eeea812-e253-45e0-b89b-5761b47ef838",
   "metadata": {},
   "outputs": [
    {
     "name": "stderr",
     "output_type": "stream",
     "text": [
      "/tmp/ipykernel_87243/1027728201.py:2: SettingWithCopyWarning: \n",
      "A value is trying to be set on a copy of a slice from a DataFrame.\n",
      "Try using .loc[row_indexer,col_indexer] = value instead\n",
      "\n",
      "See the caveats in the documentation: https://pandas.pydata.org/pandas-docs/stable/user_guide/indexing.html#returning-a-view-versus-a-copy\n",
      "  df_unique[\"cuted_words\"] = df_unique[\"题目\"].apply(cut_word)\n"
     ]
    }
   ],
   "source": [
    "# df_unique = df_unique.drop(\"cuted_words\")\n",
    "df_unique[\"cuted_words\"] = df_unique[\"题目\"].apply(cut_word)"
   ]
  },
  {
   "cell_type": "code",
   "execution_count": 89,
   "id": "cf810ccd-a8c8-4025-90d8-16d7b329a8da",
   "metadata": {},
   "outputs": [
    {
     "data": {
      "text/plain": [
       "0      [▁, 谈一谈, 你, 未来的, 阶段性, 目标, (, 三个月, /, 半年, /, 一年...\n",
       "1           [▁请, 举, 一个, 为自己, 设立, 目标, ,, 并, 最终实现, 的例子, 。]\n",
       "3      [▁, 您, 以前, 从事, 过, 哪些, 工作, ?, 您, 工作, 时间最长, 的工作,...\n",
       "4      [▁How, ▁do, ▁you, ▁normal, y, ▁handle, ▁critic...\n",
       "5      [▁当你, 与别人, 意见, 产生, 分歧, 的时候, ,, 你是, 如何处理, 的, ?,...\n",
       "6              [▁请, 举, 一个, 主动, 超越, 职责, 完成, 工作任务, 的例子, 。]\n",
       "8      [▁, 您, 以前, 是否, 从事, 过, 与, 汽车, 生产, 相关的, 工作, ?, 如...\n",
       "10     [▁Could, ▁you, ▁tell, ▁me, ▁three, ▁things, ▁y...\n",
       "13     [▁What, ▁is, ▁the, ▁biggest, ▁challenge, ▁of, ...\n",
       "16     [▁请, 简单, 描述, 最近, 一份, B, 端, 产品, 经历, ,, 所属, 行业, ...\n",
       "20     [▁, 请问, 您, 是否, 负责, 过, C, 端, 产品, ?, 如果有, ,, 请, ...\n",
       "24     [▁What, ▁is, ▁the, ▁biggest, ▁challenge, ▁of, ...\n",
       "33     [▁What, ▁is, ▁the, ▁biggest, ▁challenge, ▁of, ...\n",
       "35     [▁What, ▁is, ▁the, ▁biggest, ▁challenge, ▁of, ...\n",
       "37     [▁What, ▁is, ▁the, ▁biggest, ▁challenge, ▁of, ...\n",
       "39     [▁你, 压力, 最大的, 阶段, 是什么时候, ?, 当时, 遇到了, 什么情况, ?, ...\n",
       "40     [▁What, ▁is, ▁the, ▁biggest, ▁challenge, ▁of, ...\n",
       "43     [▁What, ▁is, ▁the, ▁biggest, ▁challenge, ▁of, ...\n",
       "45     [▁What, ▁is, ▁the, ▁biggest, ▁challenge, ▁of, ...\n",
       "46     [▁What, ▁is, ▁the, ▁biggest, ▁challenge, ▁of, ...\n",
       "48     [▁, 你用, 的, 什么, 型号, 的手机, ?, 假设, 让你, 把手机, 推销, 给,...\n",
       "49          [▁, 请问, 你有什么, 兴趣爱好, ,, 如果有, ,, 请, 简单, 描述, 下]\n",
       "50     [▁, 从事, 一个新, 行业, ,, 你有什么, 把握, 能, 比以前, 的行业, 做的,...\n",
       "52     [▁, 请问, 您, 有, 观看, 市, 面, 产品, 资讯, 的习惯, 吗, ?, 如果有...\n",
       "54     [▁如果, 让你, 向, 盲人, 描述, 橙色, 这个, 颜色, ,, 你会, 如何, 描述...\n",
       "58     [▁, 描述, 一个, 你最, 不愿, 与之相, 处, 的同事, ,, 这个人, 有哪些, ...\n",
       "59     [▁请, 分享, 你, 工作压力, 非常大的, 一段, 经历, ,, 当时是, 怎么处理, ...\n",
       "61     [▁请, 举, 一个, 你在, “, 时间, 紧, 、, 任务, 重, ”, 情况下, 完成...\n",
       "66     [▁, 举, 一个, 实际, 发生, 的例子, ,, 简单, 阐述, 下, 你, 是如何, ...\n",
       "78     [▁, 假设, 每天, 通勤, 7, 9, 分钟, 。, 主管, 定了, 过高, 的业绩, ...\n",
       "88     [▁在, 过往的, 工作, 或, 生活中, ,, 最, 辛苦, 或, 压力, 最大的, 一段...\n",
       "89     [▁当你, 开始, 接触, 一个新, 组织, 时, ,, 你, 是怎么, 去了解, 组织, ...\n",
       "94     [▁, 简单介绍, 你的, 家庭背景, ,, 哪里, 人, ,, 父母, 经济条件, ,, ...\n",
       "96     [▁, 你认为, 销售, 工作, 有哪些, 特点, ?, 你, 本人, 有哪些, 特点, ?...\n",
       "103    [▁, 假设, 每天, 通勤, 9, 6, 分钟, 。, 主管, 定了, 过高, 的业绩, ...\n",
       "107    [▁, 假设, 每天, 通勤, 8, 3, 分钟, 。, 主管, 定了, 过高, 的业绩, ...\n",
       "109    [▁, 假设, 每天, 通勤, 6, 1, 分钟, 。, 主管, 定了, 过高, 的业绩, ...\n",
       "147                  [▁为什么, 选择, 这个行业, ?, 为什么, 选择, 龙湖, ?]\n",
       "170    [▁, 请问, 你, 了解, 电商, 客服, 这个, 岗位, 吗, ?, 为什么, 应聘, ...\n",
       "171    [▁, 您, 是否, 从事, 过, 相关行业, 及, 过往, 业绩, /, 荣誉, /, 成...\n",
       "229    [▁, 假设, 每天, 通勤, 6, 3, 分钟, 。, 主管, 定了, 过高, 的业绩, ...\n",
       "Name: cuted_words, dtype: object"
      ]
     },
     "execution_count": 89,
     "metadata": {},
     "output_type": "execute_result"
    }
   ],
   "source": [
    "df_unique[\"cuted_words\"]"
   ]
  },
  {
   "cell_type": "code",
   "execution_count": null,
   "id": "e44df875-48b9-4e57-9118-dfaec795d193",
   "metadata": {},
   "outputs": [],
   "source": []
  }
 ],
 "metadata": {
  "kernelspec": {
   "display_name": "chatglm_6b_ptuning2",
   "language": "python",
   "name": "chatglm_6b_ptuning2"
  },
  "language_info": {
   "codemirror_mode": {
    "name": "ipython",
    "version": 3
   },
   "file_extension": ".py",
   "mimetype": "text/x-python",
   "name": "python",
   "nbconvert_exporter": "python",
   "pygments_lexer": "ipython3",
   "version": "3.9.13"
  }
 },
 "nbformat": 4,
 "nbformat_minor": 5
}
